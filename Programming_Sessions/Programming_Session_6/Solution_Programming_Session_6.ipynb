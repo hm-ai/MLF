{
  "nbformat": 4,
  "nbformat_minor": 0,
  "metadata": {
    "colab": {
      "provenance": []
    },
    "kernelspec": {
      "name": "python3",
      "display_name": "Python 3"
    },
    "language_info": {
      "name": "python"
    }
  },
  "cells": [
    {
      "cell_type": "markdown",
      "metadata": {
        "id": "48GJETGg1Aow"
      },
      "source": [
        "# **<center>Machine Learning and Finance </center>**\n",
        "\n",
        "\n",
        "## <center> Programming Session 6 - Introduction to Sequence Models - </center>\n",
        "\n",
        "<table class=\"tfo-notebook-buttons\" align=\"center\">\n",
        "  <td>\n",
        "    <a target=\"_blank\" href=\"https://hm-ai.github.io/MLF/\">\n",
        "    <img src=\"https://drive.google.com/uc?export=view&id=1gmxxmwCR1WXK0IYtNqvE4QXFleznWqQO\" height=\"50\"/>\n",
        "    Course page</a>\n",
        "</td>\n",
        "  <td>\n",
        "    <a target=\"_blank\" href=\"https://colab.research.google.com/drive/1cApp099jwsJQudTjqGlUHapynRPbSoXJ?usp=sharing\"><img src=\"https://www.tensorflow.org/images/colab_logo_32px.png\" height=\"50\" />Run in Google Colab</a>\n",
        "  </td>\n",
        "</table>\n",
        "\n",
        "\n",
        "The Objective of this session is to create a sequence model to predict the labels of the MNIST dataset"
      ]
    },
    {
      "cell_type": "code",
      "metadata": {
        "id": "HS0eX7Kebja4",
        "colab": {
          "base_uri": "https://localhost:8080/"
        },
        "outputId": "ca87fe45-a28f-4d4d-dadc-0488122a4eac"
      },
      "source": [
        "# Access files from Google Drive\n",
        "from google.colab import drive \n",
        "drive.mount('/content/gdrive')"
      ],
      "execution_count": null,
      "outputs": [
        {
          "output_type": "stream",
          "name": "stdout",
          "text": [
            "Mounted at /content/gdrive\n"
          ]
        }
      ]
    },
    {
      "cell_type": "markdown",
      "metadata": {
        "id": "qngIFzSedTYR"
      },
      "source": [
        "# 1. Numpy implementation of a standard RNN"
      ]
    },
    {
      "cell_type": "markdown",
      "source": [
        "<center><img width=“700\" src = \"https://drive.google.com/uc?export=view&id=1vXVUvFIFDxYo_sdil2QPJWSCwXwZj27f\"></center>"
      ],
      "metadata": {
        "id": "2WHK0TFvgvHw"
      }
    },
    {
      "cell_type": "code",
      "metadata": {
        "id": "kCcWOvm03Zxu"
      },
      "source": [
        "# Import basic libraries\n",
        "import matplotlib.pyplot as plt # for plotting \n",
        "import numpy as np # for manipulating arrays\n",
        "import tensorflow as tf # for creating Neural Networks, we will use it to load data\n",
        "plt.style.use('dark_background') # to adapt the colors to a dark background\n",
        "from IPython.display import Image # for showing graphs from the lectures"
      ],
      "execution_count": null,
      "outputs": []
    },
    {
      "cell_type": "markdown",
      "metadata": {
        "id": "rMujAuUXxAUA"
      },
      "source": [
        "We have the following hyperparameters:"
      ]
    },
    {
      "cell_type": "code",
      "metadata": {
        "id": "xRb1hXjofx7W"
      },
      "source": [
        "N = 1000\n",
        "T = 100\n",
        "D = 50\n",
        "d = 20"
      ],
      "execution_count": null,
      "outputs": []
    },
    {
      "cell_type": "markdown",
      "source": [
        "---\n",
        "<font color=green>Q1:</font>\n",
        "<br><font color='green'>\n",
        "Generate some random data of shape (N, T, D).\n",
        "</font>\n",
        "\n",
        "---"
      ],
      "metadata": {
        "id": "RHFbv_RgfmB2"
      }
    },
    {
      "cell_type": "code",
      "metadata": {
        "id": "rt9mlOmDf5TU",
        "colab": {
          "base_uri": "https://localhost:8080/"
        },
        "outputId": "61964c6d-e0bd-40e9-eb3f-185763abfa77"
      },
      "source": [
        "data = np.random.randn(N, T, D)\n",
        "data.shape"
      ],
      "execution_count": null,
      "outputs": [
        {
          "output_type": "execute_result",
          "data": {
            "text/plain": [
              "(1000, 100, 50)"
            ]
          },
          "metadata": {},
          "execution_count": 8
        }
      ]
    },
    {
      "cell_type": "code",
      "metadata": {
        "id": "qaiEGS_2hKy-",
        "colab": {
          "base_uri": "https://localhost:8080/"
        },
        "outputId": "fd6a1668-ca53-471c-c892-52cadc072b81"
      },
      "source": [
        "data[0].shape"
      ],
      "execution_count": null,
      "outputs": [
        {
          "output_type": "execute_result",
          "data": {
            "text/plain": [
              "(100, 50)"
            ]
          },
          "metadata": {},
          "execution_count": 9
        }
      ]
    },
    {
      "cell_type": "code",
      "metadata": {
        "id": "K3siLQOsxSqR",
        "colab": {
          "base_uri": "https://localhost:8080/",
          "height": 329
        },
        "outputId": "d8d9e28f-404c-42c9-9fcf-3eb118d8ea8f"
      },
      "source": [
        "plt.imshow(data[0].T)"
      ],
      "execution_count": null,
      "outputs": [
        {
          "output_type": "execute_result",
          "data": {
            "text/plain": [
              "<matplotlib.image.AxesImage at 0x7f8d1602ecb0>"
            ]
          },
          "metadata": {},
          "execution_count": 10
        },
        {
          "output_type": "display_data",
          "data": {
            "text/plain": [
              "<Figure size 640x480 with 1 Axes>"
            ],
            "image/png": "[encoded data removed]"
          },
          "metadata": {}
        }
      ]
    },
    {
      "cell_type": "markdown",
      "source": [
        "---\n",
        "<font color=green>Q2:</font>\n",
        "<br><font color='green'>\n",
        "Create some random weights $W_{hh}, W_{xh}, b_h$\n",
        "</font>\n",
        "\n",
        "---"
      ],
      "metadata": {
        "id": "1A5iUerBfwgv"
      }
    },
    {
      "cell_type": "code",
      "metadata": {
        "id": "Zy1x3CqWyBn9"
      },
      "source": [
        "W_hh = np.random.random((d, d))\n",
        "W_xh = np.random.random((D, d))\n",
        "b_h = np.random.random((d,))"
      ],
      "execution_count": null,
      "outputs": []
    },
    {
      "cell_type": "markdown",
      "source": [
        "---\n",
        "<font color=green>Q3:</font>\n",
        "<br><font color='green'>\n",
        "Generate the output tensor of shape (N, T, d) by creating the sequence $y_1, \\dots, y_T$ associated with each sequence $x_1, \\dots, x_T$. \n",
        "</font>\n",
        "\n",
        "---"
      ],
      "metadata": {
        "id": "ZvIG6LaufxHY"
      }
    },
    {
      "cell_type": "code",
      "metadata": {
        "id": "pO0LjXHdgnYZ"
      },
      "source": [
        "# Initialize the output tensor \n",
        "H = np.zeros((N, T, d))\n",
        "# The number of samples\n",
        "N = data.shape[0]\n",
        "# Loop through all the N samples\n",
        "for i in range(N):\n",
        "  # Get the sequence i compose of T vectors of size D\n",
        "  X = data[i] \n",
        "  # Initialize h_{0} with 0\n",
        "  h_t_minus_one = np.zeros((d,))\n",
        "  # Initialize an empty list for h_1, ..., h_T\n",
        "  sequence_H = []\n",
        "  # Loop through all the elements x_1, ..., x_T\n",
        "  for x_t in X:\n",
        "    # h_t = tanh(W_{xh}^T x_t + W_{hh}^T h_{t-1} + b_h)\n",
        "    h_t = np.tanh(W_xh.T.dot(x_t) + W_hh.T.dot(h_t_minus_one) + b_h)\n",
        "    # Put the output h_t in the list of outputs \n",
        "    sequence_H.append(h_t)\n",
        "    # Update the new hidden state\n",
        "    h_t_minus_one = h_t\n",
        "  H[i] = np.asarray(sequence_H)"
      ],
      "execution_count": null,
      "outputs": []
    },
    {
      "cell_type": "markdown",
      "source": [
        "---\n",
        "<font color=green>Q4:</font>\n",
        "<br><font color='green'>\n",
        "Plot the shape of the output:\n",
        "</font>\n",
        "\n",
        "---"
      ],
      "metadata": {
        "id": "7vD9Fa0Rfx2T"
      }
    },
    {
      "cell_type": "code",
      "metadata": {
        "id": "YfoHYcIykko8",
        "colab": {
          "base_uri": "https://localhost:8080/"
        },
        "outputId": "83d82088-7754-43cf-b0ba-f17b38f193cf"
      },
      "source": [
        "H.shape"
      ],
      "execution_count": null,
      "outputs": [
        {
          "output_type": "execute_result",
          "data": {
            "text/plain": [
              "(1000, 100, 20)"
            ]
          },
          "metadata": {},
          "execution_count": 9
        }
      ]
    },
    {
      "cell_type": "markdown",
      "metadata": {
        "id": "COv33yRDvNuV"
      },
      "source": [
        "# 2. MNIST Classification using LSTMs"
      ]
    },
    {
      "cell_type": "markdown",
      "source": [
        "<center><img width=“700\" src = \"https://drive.google.com/uc?export=view&id=1KNpBc60u1QCopXygOff0tLkQNkyXuSmr\"></center>"
      ],
      "metadata": {
        "id": "IYCOGECGhVNt"
      }
    },
    {
      "cell_type": "markdown",
      "metadata": {
        "id": "u79VBT_aGlUG"
      },
      "source": [
        "We want to use the LSTM layer to classify the MNIST dataset.\n",
        "\n",
        "The dataset is of shape (60000, 28, 28). \n",
        "\n",
        "Each sample is an image of shape (28, 28).\n",
        "\n",
        "We can look at the image as a sequence of length T = 28, where each element is of dimension D = 28"
      ]
    },
    {
      "cell_type": "markdown",
      "metadata": {
        "id": "y8mttvycUV6K"
      },
      "source": [
        "## 2.1 Loading the MNIST dataset"
      ]
    },
    {
      "cell_type": "markdown",
      "source": [
        "---\n",
        "<font color=green>Q5:</font>\n",
        "<br><font color='green'>\n",
        "Load the MNIST dataset using `tf.keras.datasets.mnist.load_data`\n",
        "</font>\n",
        "\n",
        "---"
      ],
      "metadata": {
        "id": "fqxR0xfgfytJ"
      }
    },
    {
      "cell_type": "code",
      "metadata": {
        "id": "grD3GopZc8Zb",
        "colab": {
          "base_uri": "https://localhost:8080/"
        },
        "outputId": "0da624f4-294f-4680-e8ff-d7106f16e2d9"
      },
      "source": [
        "(X_train, y_train), (X_test, y_test) = tf.keras.datasets.mnist.load_data()"
      ],
      "execution_count": null,
      "outputs": [
        {
          "output_type": "stream",
          "name": "stdout",
          "text": [
            "Downloading data from https://storage.googleapis.com/tensorflow/tf-keras-datasets/mnist.npz\n",
            "11490434/11490434 [==============================] - 0s 0us/step\n"
          ]
        }
      ]
    },
    {
      "cell_type": "markdown",
      "source": [
        "---\n",
        "<font color=green>Q6:</font>\n",
        "<br><font color='green'>\n",
        "Plot the shape of the data\n",
        "</font>\n",
        "\n",
        "---"
      ],
      "metadata": {
        "id": "ARNK6uSFfzVP"
      }
    },
    {
      "cell_type": "code",
      "metadata": {
        "id": "EOXsnm0udz00",
        "colab": {
          "base_uri": "https://localhost:8080/"
        },
        "outputId": "d3243dac-08ac-473b-b942-8e018c0f813e"
      },
      "source": [
        "X_train.shape"
      ],
      "execution_count": null,
      "outputs": [
        {
          "output_type": "execute_result",
          "data": {
            "text/plain": [
              "(60000, 28, 28)"
            ]
          },
          "metadata": {},
          "execution_count": 11
        }
      ]
    },
    {
      "cell_type": "markdown",
      "source": [
        "---\n",
        "<font color=green>Q7:</font>\n",
        "<br><font color='green'>\n",
        "Scale the feature train and test data by dividing each pixel element by 255\n",
        "</font>\n",
        "\n",
        "---"
      ],
      "metadata": {
        "id": "s0I9WQWdf04M"
      }
    },
    {
      "cell_type": "code",
      "metadata": {
        "id": "Sg74fdAr1ApF"
      },
      "source": [
        "X_train = X_train.astype('float32') / 255\n",
        "X_test = X_test.astype('float32') / 255"
      ],
      "execution_count": null,
      "outputs": []
    },
    {
      "cell_type": "markdown",
      "source": [
        "---\n",
        "<font color=green>Q8:</font>\n",
        "<br><font color='green'>\n",
        "The targets are categories in $\\{0, \\dots, 9\\}$. Create the tensor target of shape (N, 10) by one hot encoding the targets using `to_categorical` from `tensorflow.keras.utils`\n",
        "</font>\n",
        "\n",
        "---"
      ],
      "metadata": {
        "id": "5lik-Dr0f1Vy"
      }
    },
    {
      "cell_type": "code",
      "metadata": {
        "id": "RfDKDAe41zwx"
      },
      "source": [
        "from tensorflow.keras.utils import to_categorical\n",
        "\n",
        "y_train = to_categorical(y_train, num_classes = 10)\n",
        "y_test = to_categorical(y_test,  num_classes = 10)"
      ],
      "execution_count": null,
      "outputs": []
    },
    {
      "cell_type": "code",
      "metadata": {
        "id": "P0MAZMAC2Ewu",
        "colab": {
          "base_uri": "https://localhost:8080/"
        },
        "outputId": "8f83911e-9e2a-4310-b3b5-24b1aa292e84"
      },
      "source": [
        "y_train.shape"
      ],
      "execution_count": null,
      "outputs": [
        {
          "output_type": "execute_result",
          "data": {
            "text/plain": [
              "(60000, 10)"
            ]
          },
          "metadata": {},
          "execution_count": 14
        }
      ]
    },
    {
      "cell_type": "markdown",
      "source": [
        "---\n",
        "<font color=green>Q9:</font>\n",
        "<br><font color='green'>\n",
        "Create the following model and train it using gradient descent\n",
        "</font>\n",
        "\n",
        "---"
      ],
      "metadata": {
        "id": "hkrZ4josf2Ap"
      }
    },
    {
      "cell_type": "markdown",
      "source": [
        "<center><img width=“500\" src = \"https://drive.google.com/uc?export=view&id=1zCyhgITfxptmBzUDQ7-TPKsKugVyjtat\"></center>"
      ],
      "metadata": {
        "id": "unZ3w7JLhZME"
      }
    },
    {
      "cell_type": "code",
      "metadata": {
        "id": "6g2aLmH-1iUO"
      },
      "source": [
        "# Set hyperparameters\n",
        "T = X_train.shape[1]\n",
        "D = X_train.shape[2]\n",
        "d = 32\n",
        "M = 64\n",
        "N_epochs = 10"
      ],
      "execution_count": null,
      "outputs": []
    },
    {
      "cell_type": "code",
      "metadata": {
        "id": "_x_oHj60k7Ww"
      },
      "source": [
        "# Import Modules\n",
        "from tensorflow.keras.models import Model\n",
        "from tensorflow.keras.layers import Input, LSTM, Dense"
      ],
      "execution_count": null,
      "outputs": []
    },
    {
      "cell_type": "code",
      "metadata": {
        "id": "WHxemeCSk7kb",
        "colab": {
          "base_uri": "https://localhost:8080/"
        },
        "outputId": "83cd4490-4ccd-456e-d604-75996ba51a69"
      },
      "source": [
        "# The input is an image of shape (T, D)\n",
        "input_layer = Input(shape=(T, D))\n",
        "\n",
        "# The LSTM layer \n",
        "lstm = LSTM(d, return_sequences=False)\n",
        "\n",
        "# Apply the LSTM layer on the input \n",
        "y_T = lstm(input_layer) # output is N x d\n",
        "\n",
        "# Apply a Dense layer with 10 neurons and a softmax activation function \n",
        "output = Dense(10, activation='softmax')(y_T)\n",
        "\n",
        "# Create the model to map the input to the output \n",
        "model = Model(inputs=input_layer, outputs=output)\n",
        "model.summary()\n",
        "\n",
        "# Compile \n",
        "model.compile(\n",
        "  loss='categorical_crossentropy',\n",
        "  optimizer='adam',\n",
        "  metrics=['accuracy']\n",
        ")\n",
        "\n",
        "# Train the model \n",
        "print('Training model...')\n",
        "history = model.fit(X_train, y_train,\n",
        "              batch_size=M, \n",
        "              epochs=N_epochs, \n",
        "              validation_split=0.3)"
      ],
      "execution_count": null,
      "outputs": [
        {
          "output_type": "stream",
          "name": "stdout",
          "text": [
            "Model: \"model\"\n",
            "_________________________________________________________________\n",
            " Layer (type)                Output Shape              Param #   \n",
            "=================================================================\n",
            " input_1 (InputLayer)        [(None, 28, 28)]          0         \n",
            "                                                                 \n",
            " lstm (LSTM)                 (None, 32)                7808      \n",
            "                                                                 \n",
            " dense (Dense)               (None, 10)                330       \n",
            "                                                                 \n",
            "=================================================================\n",
            "Total params: 8,138\n",
            "Trainable params: 8,138\n",
            "Non-trainable params: 0\n",
            "_________________________________________________________________\n",
            "Training model...\n",
            "Epoch 1/10\n",
            "657/657 [==============================] - 15s 20ms/step - loss: 0.9311 - accuracy: 0.6987 - val_loss: 0.4185 - val_accuracy: 0.8787\n",
            "Epoch 2/10\n",
            "657/657 [==============================] - 12s 19ms/step - loss: 0.3222 - accuracy: 0.9065 - val_loss: 0.2726 - val_accuracy: 0.9189\n",
            "Epoch 3/10\n",
            "657/657 [==============================] - 11s 17ms/step - loss: 0.2132 - accuracy: 0.9392 - val_loss: 0.2213 - val_accuracy: 0.9329\n",
            "Epoch 4/10\n",
            "657/657 [==============================] - 12s 19ms/step - loss: 0.1717 - accuracy: 0.9507 - val_loss: 0.1530 - val_accuracy: 0.9573\n",
            "Epoch 5/10\n",
            "657/657 [==============================] - 12s 19ms/step - loss: 0.1442 - accuracy: 0.9582 - val_loss: 0.1459 - val_accuracy: 0.9587\n",
            "Epoch 6/10\n",
            "657/657 [==============================] - 12s 19ms/step - loss: 0.1242 - accuracy: 0.9634 - val_loss: 0.1206 - val_accuracy: 0.9658\n",
            "Epoch 7/10\n",
            "657/657 [==============================] - 12s 19ms/step - loss: 0.1117 - accuracy: 0.9666 - val_loss: 0.1167 - val_accuracy: 0.9671\n",
            "Epoch 8/10\n",
            "657/657 [==============================] - 12s 19ms/step - loss: 0.0986 - accuracy: 0.9707 - val_loss: 0.1175 - val_accuracy: 0.9663\n",
            "Epoch 9/10\n",
            "657/657 [==============================] - 13s 19ms/step - loss: 0.0893 - accuracy: 0.9740 - val_loss: 0.1238 - val_accuracy: 0.9646\n",
            "Epoch 10/10\n",
            "657/657 [==============================] - 11s 17ms/step - loss: 0.0809 - accuracy: 0.9763 - val_loss: 0.1009 - val_accuracy: 0.9718\n"
          ]
        }
      ]
    },
    {
      "cell_type": "markdown",
      "source": [
        "---\n",
        "<font color=green>Q10:</font>\n",
        "<br><font color='green'>\n",
        "Plot the training and the validation loss and the training and the validation accuracy\n",
        "</font>\n",
        "\n",
        "---"
      ],
      "metadata": {
        "id": "nRJ1zuASf3Li"
      }
    },
    {
      "cell_type": "code",
      "metadata": {
        "id": "HVhFRaHWk7hP",
        "colab": {
          "base_uri": "https://localhost:8080/",
          "height": 641
        },
        "outputId": "e5dfae3a-8e3b-4587-b0c7-bb334dbaf488"
      },
      "source": [
        "# Plot the training loss and the validation loss \n",
        "fig, ax = plt.subplots(figsize = (10, 7))\n",
        "plt.plot(history.history['loss'], label='loss')\n",
        "plt.plot(history.history['val_loss'], label='val_loss')\n",
        "plt.xlabel('epochs')\n",
        "plt.ylabel('loss')\n",
        "plt.title(\"Training and Validation loss\")\n",
        "plt.legend()\n",
        "plt.show()\n"
      ],
      "execution_count": null,
      "outputs": [
        {
          "output_type": "display_data",
          "data": {
            "text/plain": [
              "<Figure size 1000x700 with 1 Axes>"
            ],
            "image/png": "[encoded data removed]"
          },
          "metadata": {}
        }
      ]
    },
    {
      "cell_type": "code",
      "metadata": {
        "id": "VWsBpMTTJUzl",
        "colab": {
          "base_uri": "https://localhost:8080/",
          "height": 641
        },
        "outputId": "7d477cbe-5b0c-45c8-8e9e-c0eb55a973a5"
      },
      "source": [
        "# Plot the training accuracy and the validation accuracy \n",
        "fig, ax = plt.subplots(figsize = (10, 7))\n",
        "plt.plot(history.history['accuracy'], label='acc')\n",
        "plt.plot(history.history['val_accuracy'], label='val_acc')\n",
        "plt.xlabel('epochs')\n",
        "plt.ylabel('accuracy')\n",
        "plt.title(\"Training and Validation accuracy\")\n",
        "plt.legend()\n",
        "plt.show()"
      ],
      "execution_count": null,
      "outputs": [
        {
          "output_type": "display_data",
          "data": {
            "text/plain": [
              "<Figure size 1000x700 with 1 Axes>"
            ],
            "image/png": "[encoded data removed]"
          },
          "metadata": {}
        }
      ]
    },
    {
      "cell_type": "markdown",
      "metadata": {
        "id": "1xy8N9ZZUW44"
      },
      "source": [
        "# Wrap-up"
      ]
    },
    {
      "cell_type": "markdown",
      "metadata": {
        "id": "ApA7ycFtywuv"
      },
      "source": [
        "In this programming session, we've learned:\n",
        "\n",
        "* To code the RNN layer using numpy to understand how data is transformed.\n",
        "* To perform a classification task on data of shape (N, T, D) using the LSTMs. \n",
        "\n",
        "\n",
        "\n"
      ]
    },
    {
      "cell_type": "markdown",
      "metadata": {
        "id": "T_I-tM9dK3dY"
      },
      "source": [
        "### Contact\n",
        "\n",
        "If you have any question regarding this notebook, do not hesitate to contact: h.madmoun@imperial.ac.uk\n",
        "\n"
      ]
    },
    {
      "cell_type": "code",
      "metadata": {
        "id": "-MYL3m4hKOI_"
      },
      "source": [],
      "execution_count": null,
      "outputs": []
    }
  ]
}